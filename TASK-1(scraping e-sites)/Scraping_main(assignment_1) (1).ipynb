{
  "nbformat": 4,
  "nbformat_minor": 0,
  "metadata": {
    "colab": {
      "provenance": []
    },
    "kernelspec": {
      "name": "python3",
      "display_name": "Python 3"
    },
    "language_info": {
      "name": "python"
    }
  },
  "cells": [
    {
      "cell_type": "markdown",
      "source": [
        "# Assignment : 1\n",
        "**Web Scrapping on Aws Clouds and storing data on mongodb showing output.\n",
        "Date :17/02/2023**"
      ],
      "metadata": {
        "id": "wV_cQ7-LX2y9"
      }
    },
    {
      "cell_type": "markdown",
      "source": [
        "# Installing pakages"
      ],
      "metadata": {
        "id": "pij1YVOky3_K"
      }
    },
    {
      "cell_type": "code",
      "source": [
        "!pip install boolean"
      ],
      "metadata": {
        "colab": {
          "base_uri": "https://localhost:8080/"
        },
        "id": "hXHJ8ogRzNww",
        "outputId": "782a0222-118e-410e-b368-684cb25cf125"
      },
      "execution_count": null,
      "outputs": [
        {
          "output_type": "stream",
          "name": "stdout",
          "text": [
            "Looking in indexes: https://pypi.org/simple, https://us-python.pkg.dev/colab-wheels/public/simple/\n",
            "Collecting boolean\n",
            "  Downloading boolean-1.1.0.tar.gz (4.6 kB)\n",
            "  Preparing metadata (setup.py) ... \u001b[?25l\u001b[?25hdone\n",
            "Building wheels for collected packages: boolean\n",
            "  Building wheel for boolean (setup.py) ... \u001b[?25l\u001b[?25hdone\n",
            "  Created wheel for boolean: filename=boolean-1.1.0-py3-none-any.whl size=4606 sha256=58cd6b0ba3322738e7b81ea2b6d3aaf437948d351073d905dabe6db3982d5f24\n",
            "  Stored in directory: /root/.cache/pip/wheels/dc/d6/d0/16b790ada0563148d2268431ead23ef596d0034ec132259216\n",
            "Successfully built boolean\n",
            "Installing collected packages: boolean\n",
            "Successfully installed boolean-1.1.0\n"
          ]
        }
      ]
    },
    {
      "cell_type": "code",
      "source": [
        "!pip install requests"
      ],
      "metadata": {
        "colab": {
          "base_uri": "https://localhost:8080/"
        },
        "id": "f49eSlwSNLcO",
        "outputId": "62378c47-9abb-4e0a-bfba-7ce5d213d56f"
      },
      "execution_count": null,
      "outputs": [
        {
          "output_type": "stream",
          "name": "stdout",
          "text": [
            "Collecting requests"
          ]
        },
        {
          "output_type": "stream",
          "name": "stderr",
          "text": [
            "  WARNING: The script normalizer.exe is installed in 'C:\\Program Files (x86)\\Microsoft Visual Studio\\Shared\\Python39_64\\Scripts' which is not on PATH.\n",
            "  Consider adding this directory to PATH or, if you prefer to suppress this warning, use --no-warn-script-location.\n"
          ]
        },
        {
          "output_type": "stream",
          "name": "stdout",
          "text": [
            "\n",
            "  Downloading requests-2.28.2-py3-none-any.whl (62 kB)\n",
            "     ---------------------------------------- 0.0/62.8 kB ? eta -:--:--\n",
            "     ---------------------------------------- 0.0/62.8 kB ? eta -:--:--\n",
            "     ---------------------------------------  61.4/62.8 kB 3.4 MB/s eta 0:00:01\n",
            "     ---------------------------------------  61.4/62.8 kB 3.4 MB/s eta 0:00:01\n",
            "     -------------------------------------- 62.8/62.8 kB 482.4 kB/s eta 0:00:00\n",
            "Requirement already satisfied: idna<4,>=2.5 in c:\\users\\dell\\appdata\\roaming\\python\\python39\\site-packages (from requests) (3.4)\n",
            "Collecting certifi>=2017.4.17\n",
            "  Downloading certifi-2022.12.7-py3-none-any.whl (155 kB)\n",
            "     ---------------------------------------- 0.0/155.3 kB ? eta -:--:--\n",
            "     ---------------------------------------  153.6/155.3 kB ? eta -:--:--\n",
            "     -------------------------------------- 155.3/155.3 kB 3.1 MB/s eta 0:00:00\n",
            "Collecting charset-normalizer<4,>=2\n",
            "  Downloading charset_normalizer-3.0.1-cp39-cp39-win_amd64.whl (96 kB)\n",
            "     ---------------------------------------- 0.0/96.5 kB ? eta -:--:--\n",
            "     -------------------------------------- - 92.2/96.5 kB ? eta -:--:--\n",
            "     ---------------------------------------- 96.5/96.5 kB 1.8 MB/s eta 0:00:00\n",
            "Collecting urllib3<1.27,>=1.21.1\n",
            "  Downloading urllib3-1.26.14-py2.py3-none-any.whl (140 kB)\n",
            "     ---------------------------------------- 0.0/140.6 kB ? eta -:--:--\n",
            "     ------------------------------------- -- 133.1/140.6 kB ? eta -:--:--\n",
            "     -------------------------------------- 140.6/140.6 kB 2.8 MB/s eta 0:00:00\n",
            "Installing collected packages: charset-normalizer, urllib3, certifi, requests\n",
            "Successfully installed certifi-2022.12.7 charset-normalizer-3.0.1 requests-2.28.2 urllib3-1.26.14\n"
          ]
        }
      ]
    },
    {
      "cell_type": "code",
      "source": [
        "!pip install urlopen"
      ],
      "metadata": {
        "colab": {
          "base_uri": "https://localhost:8080/"
        },
        "id": "u2a90L3Y0Hb4",
        "outputId": "6177a10d-b83d-48f6-b0c6-28c8cc70a89b"
      },
      "execution_count": null,
      "outputs": [
        {
          "output_type": "stream",
          "name": "stdout",
          "text": [
            "Looking in indexes: https://pypi.org/simple, https://us-python.pkg.dev/colab-wheels/public/simple/\n",
            "Collecting urlopen\n",
            "  Downloading urlopen-1.0.0.zip (2.1 kB)\n",
            "  Preparing metadata (setup.py) ... \u001b[?25l\u001b[?25hdone\n",
            "Building wheels for collected packages: urlopen\n",
            "  Building wheel for urlopen (setup.py) ... \u001b[?25l\u001b[?25hdone\n",
            "  Created wheel for urlopen: filename=urlopen-1.0.0-py3-none-any.whl size=1409 sha256=8760bbdd689e4a8d7fed770709e50b8fd1559d400e720c934a2c397fbe45c14b\n",
            "  Stored in directory: /root/.cache/pip/wheels/24/9c/4d/ca4e42757ec1b612bebb0ccfd61744f4e77fc4e55e19308869\n",
            "Successfully built urlopen\n",
            "Installing collected packages: urlopen\n",
            "Successfully installed urlopen-1.0.0\n"
          ]
        }
      ]
    },
    {
      "cell_type": "code",
      "source": [
        "!pip install pandas"
      ],
      "metadata": {
        "colab": {
          "base_uri": "https://localhost:8080/"
        },
        "id": "j4KUi_S_NfzW",
        "outputId": "270d56b8-c3a6-45a7-ee7b-2273fff717cc"
      },
      "execution_count": null,
      "outputs": [
        {
          "output_type": "stream",
          "name": "stdout",
          "text": [
            "Collecting pandas\n",
            "  Downloading pandas-1.5.3-cp39-cp39-win_amd64.whl (10.9 MB)\n",
            "     ---------------------------------------- 0.0/10.9 MB ? eta -:--:--\n",
            "     -- ------------------------------------- 0.6/10.9 MB 12.0 MB/s eta 0:00:01\n",
            "     -- ------------------------------------- 0.8/10.9 MB 8.6 MB/s eta 0:00:02\n",
            "     --- ------------------------------------ 1.0/10.9 MB 7.8 MB/s eta 0:00:02\n",
            "     ---- ----------------------------------- 1.1/10.9 MB 5.8 MB/s eta 0:00:02\n",
            "     ---- ----------------------------------- 1.3/10.9 MB 5.3 MB/s eta 0:00:02\n",
            "     ----- ---------------------------------- 1.4/10.9 MB 5.7 MB/s eta 0:00:02\n",
            "     ----- ---------------------------------- 1.5/10.9 MB 4.6 MB/s eta 0:00:03\n",
            "     ------ --------------------------------- 1.9/10.9 MB 5.0 MB/s eta 0:00:02\n",
            "     ------- -------------------------------- 2.1/10.9 MB 4.9 MB/s eta 0:00:02\n",
            "     -------- ------------------------------- 2.2/10.9 MB 4.7 MB/s eta 0:00:02\n",
            "     -------- ------------------------------- 2.4/10.9 MB 4.6 MB/s eta 0:00:02\n",
            "     --------- ------------------------------ 2.6/10.9 MB 4.6 MB/s eta 0:00:02\n",
            "     ---------- ----------------------------- 2.8/10.9 MB 4.5 MB/s eta 0:00:02\n",
            "     ---------- ----------------------------- 2.9/10.9 MB 4.5 MB/s eta 0:00:02\n",
            "     ----------- ---------------------------- 3.1/10.9 MB 4.4 MB/s eta 0:00:02\n",
            "     ------------ --------------------------- 3.3/10.9 MB 4.4 MB/s eta 0:00:02\n",
            "     ------------ --------------------------- 3.5/10.9 MB 4.3 MB/s eta 0:00:02\n",
            "     ------------- -------------------------- 3.6/10.9 MB 4.3 MB/s eta 0:00:02\n",
            "     ------------- -------------------------- 3.8/10.9 MB 4.3 MB/s eta 0:00:02\n",
            "     -------------- ------------------------- 4.0/10.9 MB 4.2 MB/s eta 0:00:02\n",
            "     --------------- ------------------------ 4.2/10.9 MB 4.2 MB/s eta 0:00:02\n",
            "     --------------- ------------------------ 4.3/10.9 MB 4.1 MB/s eta 0:00:02\n",
            "     ---------------- ----------------------- 4.5/10.9 MB 4.2 MB/s eta 0:00:02\n",
            "     ----------------- ---------------------- 4.7/10.9 MB 4.2 MB/s eta 0:00:02\n",
            "     ----------------- ---------------------- 4.9/10.9 MB 4.2 MB/s eta 0:00:02\n",
            "     ------------------ --------------------- 5.1/10.9 MB 4.1 MB/s eta 0:00:02\n",
            "     ------------------- -------------------- 5.2/10.9 MB 4.1 MB/s eta 0:00:02\n",
            "     ------------------- -------------------- 5.4/10.9 MB 4.1 MB/s eta 0:00:02\n",
            "     -------------------- ------------------- 5.6/10.9 MB 4.1 MB/s eta 0:00:02\n",
            "     --------------------- ------------------ 5.8/10.9 MB 4.1 MB/s eta 0:00:02\n",
            "     --------------------- ------------------ 5.9/10.9 MB 4.0 MB/s eta 0:00:02\n",
            "     ---------------------- ----------------- 6.1/10.9 MB 4.0 MB/s eta 0:00:02\n",
            "     ----------------------- ---------------- 6.3/10.9 MB 4.0 MB/s eta 0:00:02\n",
            "     ----------------------- ---------------- 6.5/10.9 MB 4.0 MB/s eta 0:00:02\n",
            "     ------------------------ --------------- 6.6/10.9 MB 4.0 MB/s eta 0:00:02\n",
            "     ------------------------ --------------- 6.8/10.9 MB 4.0 MB/s eta 0:00:02\n",
            "     ------------------------- -------------- 7.0/10.9 MB 4.0 MB/s eta 0:00:01\n",
            "     -------------------------- ------------- 7.2/10.9 MB 4.0 MB/s eta 0:00:01\n",
            "     -------------------------- ------------- 7.4/10.9 MB 4.0 MB/s eta 0:00:01\n",
            "     --------------------------- ------------ 7.5/10.9 MB 4.0 MB/s eta 0:00:01\n",
            "     ---------------------------- ----------- 7.7/10.9 MB 4.0 MB/s eta 0:00:01\n",
            "     ---------------------------- ----------- 7.9/10.9 MB 4.0 MB/s eta 0:00:01\n",
            "     ----------------------------- ---------- 8.0/10.9 MB 4.0 MB/s eta 0:00:01\n",
            "     ------------------------------ --------- 8.2/10.9 MB 4.0 MB/s eta 0:00:01\n",
            "     ------------------------------ --------- 8.4/10.9 MB 4.0 MB/s eta 0:00:01\n",
            "     ------------------------------- -------- 8.6/10.9 MB 3.9 MB/s eta 0:00:01\n",
            "     ------------------------------- -------- 8.7/10.9 MB 3.9 MB/s eta 0:00:01\n",
            "     -------------------------------- ------- 8.9/10.9 MB 3.9 MB/s eta 0:00:01\n",
            "     --------------------------------- ------ 9.1/10.9 MB 3.9 MB/s eta 0:00:01\n",
            "     --------------------------------- ------ 9.3/10.9 MB 3.9 MB/s eta 0:00:01\n",
            "     ---------------------------------- ----- 9.5/10.9 MB 3.9 MB/s eta 0:00:01\n",
            "     ----------------------------------- ---- 9.6/10.9 MB 3.9 MB/s eta 0:00:01\n",
            "     ----------------------------------- ---- 9.8/10.9 MB 3.9 MB/s eta 0:00:01\n",
            "     ------------------------------------ --- 10.0/10.9 MB 3.9 MB/s eta 0:00:01\n",
            "     ------------------------------------- -- 10.2/10.9 MB 3.9 MB/s eta 0:00:01\n",
            "     ------------------------------------- -- 10.3/10.9 MB 3.9 MB/s eta 0:00:01\n",
            "     -------------------------------------- - 10.5/10.9 MB 3.8 MB/s eta 0:00:01\n",
            "     ---------------------------------------  10.7/10.9 MB 3.8 MB/s eta 0:00:01\n",
            "     ---------------------------------------  10.9/10.9 MB 3.7 MB/s eta 0:00:01\n",
            "     ---------------------------------------  10.9/10.9 MB 3.7 MB/s eta 0:00:01\n",
            "     ---------------------------------------  10.9/10.9 MB 3.7 MB/s eta 0:00:01\n",
            "     ---------------------------------------  10.9/10.9 MB 3.7 MB/s eta 0:00:01\n",
            "     ---------------------------------------  10.9/10.9 MB 3.7 MB/s eta 0:00:01\n",
            "     ---------------------------------------  10.9/10.9 MB 3.7 MB/s eta 0:00:01\n",
            "     ---------------------------------------  10.9/10.9 MB 3.7 MB/s eta 0:00:01\n",
            "     ---------------------------------------  10.9/10.9 MB 3.7 MB/s eta 0:00:01\n",
            "     ---------------------------------------  10.9/10.9 MB 3.7 MB/s eta 0:00:01\n",
            "     ---------------------------------------- 10.9/10.9 MB 3.3 MB/s eta 0:00:00\n",
            "Collecting numpy>=1.20.3\n",
            "  Downloading numpy-1.24.2-cp39-cp39-win_amd64.whl (14.9 MB)\n",
            "     ---------------------------------------- 0.0/14.9 MB ? eta -:--:--\n",
            "     ---------------------------------------- 0.2/14.9 MB 5.3 MB/s eta 0:00:03\n",
            "     - -------------------------------------- 0.4/14.9 MB 5.1 MB/s eta 0:00:03\n",
            "     - -------------------------------------- 0.7/14.9 MB 5.6 MB/s eta 0:00:03\n",
            "     -- ------------------------------------- 1.0/14.9 MB 5.9 MB/s eta 0:00:03\n",
            "     --- ------------------------------------ 1.2/14.9 MB 5.6 MB/s eta 0:00:03\n",
            "     --- ------------------------------------ 1.4/14.9 MB 5.2 MB/s eta 0:00:03\n",
            "     --- ------------------------------------ 1.4/14.9 MB 5.4 MB/s eta 0:00:03\n",
            "     ---- ----------------------------------- 1.7/14.9 MB 4.7 MB/s eta 0:00:03\n",
            "     ---- ----------------------------------- 1.8/14.9 MB 4.6 MB/s eta 0:00:03\n",
            "     ----- ---------------------------------- 1.9/14.9 MB 4.5 MB/s eta 0:00:03\n",
            "     ------ --------------------------------- 2.3/14.9 MB 4.5 MB/s eta 0:00:03\n",
            "     ------ --------------------------------- 2.5/14.9 MB 4.5 MB/s eta 0:00:03\n",
            "     ------- -------------------------------- 2.6/14.9 MB 4.4 MB/s eta 0:00:03\n",
            "     ------- -------------------------------- 2.8/14.9 MB 4.4 MB/s eta 0:00:03\n",
            "     -------- ------------------------------- 3.0/14.9 MB 4.3 MB/s eta 0:00:03\n",
            "     -------- ------------------------------- 3.2/14.9 MB 4.3 MB/s eta 0:00:03\n",
            "     --------- ------------------------------ 3.4/14.9 MB 4.3 MB/s eta 0:00:03\n",
            "     --------- ------------------------------ 3.5/14.9 MB 4.2 MB/s eta 0:00:03\n",
            "     --------- ------------------------------ 3.7/14.9 MB 4.2 MB/s eta 0:00:03\n",
            "     ---------- ----------------------------- 3.9/14.9 MB 4.2 MB/s eta 0:00:03\n",
            "     ---------- ----------------------------- 4.0/14.9 MB 4.2 MB/s eta 0:00:03\n",
            "     ----------- ---------------------------- 4.2/14.9 MB 4.2 MB/s eta 0:00:03\n",
            "     ----------- ---------------------------- 4.4/14.9 MB 4.1 MB/s eta 0:00:03\n",
            "     ------------ --------------------------- 4.6/14.9 MB 4.1 MB/s eta 0:00:03\n",
            "     ------------ --------------------------- 4.8/14.9 MB 4.0 MB/s eta 0:00:03\n",
            "     ------------- -------------------------- 4.9/14.9 MB 4.1 MB/s eta 0:00:03\n",
            "     ------------- -------------------------- 5.1/14.9 MB 4.0 MB/s eta 0:00:03\n",
            "     -------------- ------------------------- 5.3/14.9 MB 4.0 MB/s eta 0:00:03\n",
            "     -------------- ------------------------- 5.4/14.9 MB 4.0 MB/s eta 0:00:03\n",
            "     --------------- ------------------------ 5.6/14.9 MB 4.0 MB/s eta 0:00:03\n",
            "     --------------- ------------------------ 5.8/14.9 MB 4.0 MB/s eta 0:00:03\n",
            "     ---------------- ----------------------- 6.0/14.9 MB 4.0 MB/s eta 0:00:03\n",
            "     ---------------- ----------------------- 6.2/14.9 MB 4.0 MB/s eta 0:00:03\n",
            "     ----------------- ---------------------- 6.3/14.9 MB 4.0 MB/s eta 0:00:03\n",
            "     ----------------- ---------------------- 6.5/14.9 MB 4.0 MB/s eta 0:00:03\n",
            "     ------------------ --------------------- 6.7/14.9 MB 4.0 MB/s eta 0:00:03\n",
            "     ------------------ --------------------- 6.9/14.9 MB 4.0 MB/s eta 0:00:03\n",
            "     ------------------ --------------------- 7.0/14.9 MB 3.9 MB/s eta 0:00:02\n",
            "     ------------------- -------------------- 7.2/14.9 MB 3.9 MB/s eta 0:00:02\n",
            "     ------------------- -------------------- 7.4/14.9 MB 3.9 MB/s eta 0:00:02\n",
            "     -------------------- ------------------- 7.6/14.9 MB 3.9 MB/s eta 0:00:02\n",
            "     -------------------- ------------------- 7.8/14.9 MB 3.9 MB/s eta 0:00:02\n",
            "     --------------------- ------------------ 7.9/14.9 MB 3.9 MB/s eta 0:00:02\n",
            "     --------------------- ------------------ 8.1/14.9 MB 3.9 MB/s eta 0:00:02\n",
            "     ---------------------- ----------------- 8.3/14.9 MB 3.9 MB/s eta 0:00:02\n",
            "     ---------------------- ----------------- 8.5/14.9 MB 3.9 MB/s eta 0:00:02\n",
            "     ----------------------- ---------------- 8.7/14.9 MB 3.9 MB/s eta 0:00:02\n",
            "     ----------------------- ---------------- 8.8/14.9 MB 3.9 MB/s eta 0:00:02\n",
            "     ------------------------ --------------- 9.0/14.9 MB 3.9 MB/s eta 0:00:02\n",
            "     ------------------------ --------------- 9.2/14.9 MB 3.9 MB/s eta 0:00:02\n",
            "     ------------------------- -------------- 9.3/14.9 MB 3.9 MB/s eta 0:00:02\n",
            "     ------------------------- -------------- 9.5/14.9 MB 3.9 MB/s eta 0:00:02\n",
            "     -------------------------- ------------- 9.7/14.9 MB 3.9 MB/s eta 0:00:02\n",
            "     -------------------------- ------------- 9.9/14.9 MB 3.9 MB/s eta 0:00:02\n",
            "     --------------------------- ------------ 10.1/14.9 MB 3.9 MB/s eta 0:00:02\n",
            "     --------------------------- ------------ 10.2/14.9 MB 3.9 MB/s eta 0:00:02\n",
            "     --------------------------- ------------ 10.4/14.9 MB 3.9 MB/s eta 0:00:02\n",
            "     ---------------------------- ----------- 10.6/14.9 MB 3.9 MB/s eta 0:00:02\n",
            "     ---------------------------- ----------- 10.8/14.9 MB 3.8 MB/s eta 0:00:02\n",
            "     ----------------------------- ---------- 10.9/14.9 MB 3.8 MB/s eta 0:00:02\n",
            "     ----------------------------- ---------- 11.1/14.9 MB 3.8 MB/s eta 0:00:02\n",
            "     ------------------------------ --------- 11.3/14.9 MB 3.7 MB/s eta 0:00:01\n",
            "     ------------------------------ --------- 11.5/14.9 MB 3.8 MB/s eta 0:00:01\n",
            "     ------------------------------- -------- 11.6/14.9 MB 3.7 MB/s eta 0:00:01\n",
            "     ------------------------------- -------- 11.8/14.9 MB 3.8 MB/s eta 0:00:01\n",
            "     -------------------------------- ------- 12.0/14.9 MB 3.8 MB/s eta 0:00:01\n",
            "     -------------------------------- ------- 12.2/14.9 MB 3.8 MB/s eta 0:00:01\n",
            "     --------------------------------- ------ 12.3/14.9 MB 3.7 MB/s eta 0:00:01\n",
            "     --------------------------------- ------ 12.5/14.9 MB 3.7 MB/s eta 0:00:01\n",
            "     ---------------------------------- ----- 12.7/14.9 MB 3.7 MB/s eta 0:00:01\n",
            "     ---------------------------------- ----- 12.9/14.9 MB 3.7 MB/s eta 0:00:01\n",
            "     ----------------------------------- ---- 13.1/14.9 MB 3.7 MB/s eta 0:00:01\n",
            "     ----------------------------------- ---- 13.2/14.9 MB 3.7 MB/s eta 0:00:01\n",
            "     ----------------------------------- ---- 13.4/14.9 MB 3.7 MB/s eta 0:00:01\n",
            "     ------------------------------------ --- 13.6/14.9 MB 3.7 MB/s eta 0:00:01\n",
            "     ------------------------------------- -- 13.8/14.9 MB 3.7 MB/s eta 0:00:01\n",
            "     ------------------------------------- -- 13.9/14.9 MB 3.7 MB/s eta 0:00:01\n",
            "     ------------------------------------- -- 14.1/14.9 MB 3.7 MB/s eta 0:00:01\n",
            "     -------------------------------------- - 14.3/14.9 MB 3.7 MB/s eta 0:00:01\n",
            "     -------------------------------------- - 14.5/14.9 MB 3.7 MB/s eta 0:00:01\n",
            "     ---------------------------------------  14.6/14.9 MB 3.7 MB/s eta 0:00:01\n",
            "     ---------------------------------------  14.8/14.9 MB 3.7 MB/s eta 0:00:01\n",
            "     ---------------------------------------  14.9/14.9 MB 3.7 MB/s eta 0:00:01\n",
            "     ---------------------------------------  14.9/14.9 MB 3.7 MB/s eta 0:00:01\n",
            "     ---------------------------------------  14.9/14.9 MB 3.7 MB/s eta 0:00:01\n",
            "     ---------------------------------------  14.9/14.9 MB 3.7 MB/s eta 0:00:01\n",
            "     ---------------------------------------  14.9/14.9 MB 3.7 MB/s eta 0:00:01\n",
            "     ---------------------------------------- 14.9/14.9 MB 3.4 MB/s eta 0:00:00\n",
            "Requirement already satisfied: python-dateutil>=2.8.1 in c:\\users\\dell\\appdata\\roaming\\python\\python39\\site-packages (from pandas) (2.8.2)\n",
            "Collecting pytz>=2020.1\n",
            "  Downloading pytz-2022.7.1-py2.py3-none-any.whl (499 kB)\n",
            "     ---------------------------------------- 0.0/499.4 kB ? eta -:--:--\n",
            "      --------------------------------------- 10.2/499.4 kB ? eta -:--:--\n",
            "      --------------------------------------- 10.2/499.4 kB ? eta -:--:--\n",
            "     ------------- ------------------------ 174.1/499.4 kB 1.3 MB/s eta 0:00:01\n",
            "     ----------------------------- -------- 389.1/499.4 kB 2.2 MB/s eta 0:00:01\n",
            "     -------------------------------------  491.5/499.4 kB 2.6 MB/s eta 0:00:01\n",
            "     -------------------------------------  491.5/499.4 kB 2.6 MB/s eta 0:00:01\n",
            "     -------------------------------------- 499.4/499.4 kB 1.8 MB/s eta 0:00:00\n",
            "Requirement already satisfied: six>=1.5 in c:\\users\\dell\\appdata\\roaming\\python\\python39\\site-packages (from python-dateutil>=2.8.1->pandas) (1.16.0)\n",
            "Installing collected packages: pytz, numpy, pandas\n",
            "Successfully installed numpy-1.24.2 pandas-1.5.3 pytz-2022.7.1\n"
          ]
        },
        {
          "output_type": "stream",
          "name": "stderr",
          "text": [
            "  WARNING: The script f2py.exe is installed in 'C:\\Program Files (x86)\\Microsoft Visual Studio\\Shared\\Python39_64\\Scripts' which is not on PATH.\n",
            "  Consider adding this directory to PATH or, if you prefer to suppress this warning, use --no-warn-script-location.\n"
          ]
        }
      ]
    },
    {
      "cell_type": "code",
      "source": [
        "!pip install urlopen"
      ],
      "metadata": {
        "colab": {
          "base_uri": "https://localhost:8080/"
        },
        "id": "bWPbY3NvOFWw",
        "outputId": "40af0541-80cc-4a53-f56c-2f99a3d97dd0"
      },
      "execution_count": null,
      "outputs": [
        {
          "output_type": "stream",
          "name": "stdout",
          "text": [
            "Collecting urlopen\n",
            "  Downloading urlopen-1.0.0.zip (2.1 kB)\n",
            "  Preparing metadata (setup.py): started\n",
            "  Preparing metadata (setup.py): finished with status 'done'\n",
            "Installing collected packages: urlopen\n",
            "  Running setup.py install for urlopen: started\n",
            "  Running setup.py install for urlopen: finished with status 'done'\n",
            "Successfully installed urlopen-1.0.0\n"
          ]
        },
        {
          "output_type": "stream",
          "name": "stderr",
          "text": [
            "  DEPRECATION: urlopen is being installed using the legacy 'setup.py install' method, because it does not have a 'pyproject.toml' and the 'wheel' package is not installed. pip 23.1 will enforce this behaviour change. A possible replacement is to enable the '--use-pep517' option. Discussion can be found at https://github.com/pypa/pip/issues/8559\n"
          ]
        }
      ]
    },
    {
      "cell_type": "markdown",
      "source": [
        "#Installing and Importing Pakages"
      ],
      "metadata": {
        "id": "oDUayLqaYX3e"
      }
    },
    {
      "cell_type": "code",
      "execution_count": null,
      "metadata": {
        "colab": {
          "base_uri": "https://localhost:8080/"
        },
        "id": "V6Qwcp2fyKMw",
        "outputId": "1cd8f5a8-b250-425e-b685-e121b72535fe"
      },
      "outputs": [
        {
          "output_type": "stream",
          "name": "stdout",
          "text": [
            "200\n"
          ]
        }
      ],
      "source": [
        "#Installing and Importing Pakages\n",
        "import bs4\n",
        "import requests\n",
        "import pandas\n",
        "import pymongo\n",
        "import json\n",
        "import csv\n",
        "import dis\n",
        "import boolean\n",
        "import urlopen\n",
        "import urllib.parse\n",
        "import numpy"
      ]
    },
    {
      "cell_type": "markdown",
      "source": [
        "## Import useful libraries and classes."
      ],
      "metadata": {
        "id": "sDXzH9lwYgp_"
      }
    },
    {
      "cell_type": "code",
      "source": [
        "#Import useful libraries and classes.\n",
        "from bs4 import BeautifulSoup\n",
        "import pandas as pd\n",
        "import urllib.parse\n",
        "from urllib.request import urlopen\n",
        "from pymongo import MongoClient\n",
        "from urllib.request import urlopen as uReq\n",
        "from bs4 import BeautifulSoup as soup\n",
        "from dis import dis\n",
        "from xmlrpc.client import Boolean"
      ],
      "metadata": {
        "id": "1GOjIVYG0Ur4"
      },
      "execution_count": null,
      "outputs": []
    },
    {
      "cell_type": "markdown",
      "source": [
        "# Object of products."
      ],
      "metadata": {
        "id": "E1CcXScZYwCm"
      }
    },
    {
      "cell_type": "code",
      "source": [
        "#object of product we scrap from flipkart sites.\n",
        "model = []\n",
        "price = []\n",
        "discount = []\n",
        "brand = []"
      ],
      "metadata": {
        "id": "vnRjs_Nk0oUO"
      },
      "execution_count": null,
      "outputs": []
    },
    {
      "cell_type": "markdown",
      "source": [
        "Creating class and for loop for url scraping data"
      ],
      "metadata": {
        "id": "InE5vGsRY1FY"
      }
    },
    {
      "cell_type": "code",
      "source": [
        "#creating class \n",
        "class Source:\n",
        "    containers = []\n",
        "    def __init__(self,containers):\n",
        "        self.containers = containers\n",
        "\n",
        "\n",
        "def extract(self,):\n",
        "        for container in self.containers:\n",
        "            # inserting model name in the list\n",
        "            model_name = container.findAll(\"div\", {\"class\": \"_4rR01T\"})\n",
        "            model.append(model_name[0].text.strip())\n",
        "            brand.append(model_name[0].text.strip().split(' ', 1)[0])\n",
        "\n",
        "\n",
        "\n",
        "            # inserting price and discount similarly\n",
        "            price_model = container.findAll(\"div\", {\"class\": \"_30jeq3 _1_WHN1\"})\n",
        "            price.append(price_model[0].text.strip())\n",
        "\n",
        "            discount_percent = container.findAll(\"div\", {\"class\": \"_3Ay6Sb\"})\n",
        "            # discount.append(discount_percent[0].text.strip())\n",
        "            if discount_percent == []:\n",
        "                discount.append(\"Null\")\n",
        "            else:\n",
        "                discount.append(discount_percent[0].text)\n",
        "\n",
        "\n",
        "###############################################################################################################################################################\n",
        "#url of sites and selecting range of sites.\n",
        "for i in range(1,6):\n",
        "    url= \"https://www.flipkart.com/search?q=iphone&otracker=search&otracker1=search&marketplace=FLIPKART&as-show=on&as=off&as-pos=1&as-type=HISTORY&page=\"+ str(i)\n",
        "    #print(url)\n",
        "    web_page = uReq(url)\n",
        "    page_html = web_page.read()\n",
        "    # html parser. It is to beautify the HTML code.\n",
        "    page_soup = soup(page_html)\n",
        "    # page_soup\n",
        "\n",
        "    # read class attribute from web page in containers variable.\n",
        "  \n",
        "    containers = page_soup.findAll(\"div\", {\"class\": \"_2kHMtA\"})  \n",
        "   \n",
        "    cs1 = Source(containers)\n",
        "    #cs1.extract()\n",
        "\n",
        "##############################################################################################################################################################\n",
        "#revoke container\n",
        "for container in containers:\n",
        "    # inserting model name in the list\n",
        "    model_name = container.findAll(\"div\", {\"class\": \"_4rR01T\"})\n",
        "    model.append(model_name[0].text.strip())\n",
        "\n",
        "    brand.append(model_name[0].text.strip().split(' ', 1)[0])\n",
        "\n",
        "    # inserting price and discount similarly\n",
        "    price_model = container.findAll(\"div\", {\"class\": \"_30jeq3 _1_WHN1\"})\n",
        "    price.append(price_model[0].text.strip())\n",
        "    discount_percent = container.findAll(\"div\", {\"class\": \"_3Ay6Sb\"})\n",
        "    # discount.append(discount_percent[0].text.strip())\n",
        "    if discount_percent == []:\n",
        "        discount.append(\"Null\")\n",
        "    else:\n",
        "        discount.append(discount_percent[0].text)"
      ],
      "metadata": {
        "id": "q_gWS-82fr2e"
      },
      "execution_count": null,
      "outputs": []
    },
    {
      "cell_type": "markdown",
      "source": [
        "dataframe of scraping data"
      ],
      "metadata": {
        "id": "ejgjboelY_wT"
      }
    },
    {
      "cell_type": "code",
      "source": [
        "df = pd.DataFrame(list(zip(brand, model,discount,price)), columns=[\"Brand\", \"model\", \"discount\" , \"price\"])"
      ],
      "metadata": {
        "id": "f1yHkq2x2CYU"
      },
      "execution_count": null,
      "outputs": []
    },
    {
      "cell_type": "markdown",
      "source": [
        "output"
      ],
      "metadata": {
        "id": "edZFKKUgZGRf"
      }
    },
    {
      "cell_type": "code",
      "source": [
        "df"
      ],
      "metadata": {
        "colab": {
          "base_uri": "https://localhost:8080/",
          "height": 802
        },
        "id": "hVOdpB392Chl",
        "outputId": "a795260f-8033-4585-d5a8-e4b7c04c37b0"
      },
      "execution_count": null,
      "outputs": [
        {
          "output_type": "execute_result",
          "data": {
            "text/plain": [
              "    Brand                                            model discount      price\n",
              "0   APPLE  APPLE iPhone 11 Pro Max (Midnight Green, 64 GB)  12% off    ₹95,699\n",
              "1   APPLE       APPLE iPhone 13 Pro Max (Graphite, 512 GB)  15% off  ₹1,34,999\n",
              "2   APPLE           APPLE iPhone 13 ((PRODUCT)RED, 512 GB)  13% off    ₹85,999\n",
              "3   APPLE        APPLE iPhone 14 Pro (Deep Purple, 512 GB)   4% off  ₹1,52,999\n",
              "4   APPLE                 APPLE iPhone 14 (Purple, 512 GB)   7% off  ₹1,01,999\n",
              "5   APPLE             APPLE iPhone 12 mini (White, 128 GB)  15% off    ₹54,999\n",
              "6   APPLE                 APPLE iPhone 14 Pro (Gold, 1 TB)   3% off  ₹1,72,999\n",
              "7   APPLE             APPLE iPhone 14 Pro (Silver, 512 GB)   4% off  ₹1,52,999\n",
              "8   APPLE                   APPLE iPhone 13 (Pink, 512 GB)  13% off    ₹85,999\n",
              "9   APPLE         APPLE iPhone 13 Pro Max (Silver, 256 GB)     Null  ₹1,39,900\n",
              "10  APPLE           APPLE iPhone 13 Pro Max (Gold, 512 GB)  15% off  ₹1,34,999\n",
              "11  APPLE              APPLE iPhone 13 (Starlight, 512 GB)  13% off    ₹85,999\n",
              "12  APPLE         APPLE iPhone 13 Pro (Alpine Green, 1 TB)  14% off  ₹1,44,999\n",
              "13  APPLE   APPLE iPhone 13 Pro Max (Alpine Green, 256 GB)     Null  ₹1,39,900\n",
              "14  APPLE      APPLE iPhone 11 Pro Max (Space Grey, 64 GB)  18% off    ₹95,699\n",
              "15  APPLE           APPLE iPhone 13 Pro Max (Gold, 256 GB)     Null  ₹1,39,900\n",
              "16  APPLE          APPLE iPhone 14 Pro (Deep Purple, 1 TB)   3% off  ₹1,72,999\n",
              "17  APPLE          APPLE iPhone 13 Pro (Sierra Blue, 1 TB)  14% off  ₹1,44,999\n",
              "18  APPLE      APPLE iPhone 14 Plus ((PRODUCT)RED, 512 GB)   8% off  ₹1,09,999\n",
              "19  APPLE       APPLE iPhone 13 Pro (Alpine Green, 128 GB)     Null  ₹1,19,900\n",
              "20  APPLE               APPLE iPhone 14 Pro (Silver, 1 TB)   3% off  ₹1,72,999\n",
              "21  APPLE             APPLE iPhone 13 Pro (Silver, 128 GB)     Null  ₹1,19,900\n",
              "22  APPLE           APPLE iPhone 13 Pro (Graphite, 256 GB)     Null  ₹1,29,900\n",
              "23  APPLE           APPLE iPhone 13 ((PRODUCT)RED, 256 GB)   9% off    ₹71,999"
            ],
            "text/html": [
              "<div>\n",
              "<style scoped>\n",
              "    .dataframe tbody tr th:only-of-type {\n",
              "        vertical-align: middle;\n",
              "    }\n",
              "\n",
              "    .dataframe tbody tr th {\n",
              "        vertical-align: top;\n",
              "    }\n",
              "\n",
              "    .dataframe thead th {\n",
              "        text-align: right;\n",
              "    }\n",
              "</style>\n",
              "<table border=\"1\" class=\"dataframe\">\n",
              "  <thead>\n",
              "    <tr style=\"text-align: right;\">\n",
              "      <th></th>\n",
              "      <th>Brand</th>\n",
              "      <th>model</th>\n",
              "      <th>discount</th>\n",
              "      <th>price</th>\n",
              "    </tr>\n",
              "  </thead>\n",
              "  <tbody>\n",
              "    <tr>\n",
              "      <th>0</th>\n",
              "      <td>APPLE</td>\n",
              "      <td>APPLE iPhone 11 Pro Max (Midnight Green, 64 GB)</td>\n",
              "      <td>12% off</td>\n",
              "      <td>₹95,699</td>\n",
              "    </tr>\n",
              "    <tr>\n",
              "      <th>1</th>\n",
              "      <td>APPLE</td>\n",
              "      <td>APPLE iPhone 13 Pro Max (Graphite, 512 GB)</td>\n",
              "      <td>15% off</td>\n",
              "      <td>₹1,34,999</td>\n",
              "    </tr>\n",
              "    <tr>\n",
              "      <th>2</th>\n",
              "      <td>APPLE</td>\n",
              "      <td>APPLE iPhone 13 ((PRODUCT)RED, 512 GB)</td>\n",
              "      <td>13% off</td>\n",
              "      <td>₹85,999</td>\n",
              "    </tr>\n",
              "    <tr>\n",
              "      <th>3</th>\n",
              "      <td>APPLE</td>\n",
              "      <td>APPLE iPhone 14 Pro (Deep Purple, 512 GB)</td>\n",
              "      <td>4% off</td>\n",
              "      <td>₹1,52,999</td>\n",
              "    </tr>\n",
              "    <tr>\n",
              "      <th>4</th>\n",
              "      <td>APPLE</td>\n",
              "      <td>APPLE iPhone 14 (Purple, 512 GB)</td>\n",
              "      <td>7% off</td>\n",
              "      <td>₹1,01,999</td>\n",
              "    </tr>\n",
              "    <tr>\n",
              "      <th>5</th>\n",
              "      <td>APPLE</td>\n",
              "      <td>APPLE iPhone 12 mini (White, 128 GB)</td>\n",
              "      <td>15% off</td>\n",
              "      <td>₹54,999</td>\n",
              "    </tr>\n",
              "    <tr>\n",
              "      <th>6</th>\n",
              "      <td>APPLE</td>\n",
              "      <td>APPLE iPhone 14 Pro (Gold, 1 TB)</td>\n",
              "      <td>3% off</td>\n",
              "      <td>₹1,72,999</td>\n",
              "    </tr>\n",
              "    <tr>\n",
              "      <th>7</th>\n",
              "      <td>APPLE</td>\n",
              "      <td>APPLE iPhone 14 Pro (Silver, 512 GB)</td>\n",
              "      <td>4% off</td>\n",
              "      <td>₹1,52,999</td>\n",
              "    </tr>\n",
              "    <tr>\n",
              "      <th>8</th>\n",
              "      <td>APPLE</td>\n",
              "      <td>APPLE iPhone 13 (Pink, 512 GB)</td>\n",
              "      <td>13% off</td>\n",
              "      <td>₹85,999</td>\n",
              "    </tr>\n",
              "    <tr>\n",
              "      <th>9</th>\n",
              "      <td>APPLE</td>\n",
              "      <td>APPLE iPhone 13 Pro Max (Silver, 256 GB)</td>\n",
              "      <td>Null</td>\n",
              "      <td>₹1,39,900</td>\n",
              "    </tr>\n",
              "    <tr>\n",
              "      <th>10</th>\n",
              "      <td>APPLE</td>\n",
              "      <td>APPLE iPhone 13 Pro Max (Gold, 512 GB)</td>\n",
              "      <td>15% off</td>\n",
              "      <td>₹1,34,999</td>\n",
              "    </tr>\n",
              "    <tr>\n",
              "      <th>11</th>\n",
              "      <td>APPLE</td>\n",
              "      <td>APPLE iPhone 13 (Starlight, 512 GB)</td>\n",
              "      <td>13% off</td>\n",
              "      <td>₹85,999</td>\n",
              "    </tr>\n",
              "    <tr>\n",
              "      <th>12</th>\n",
              "      <td>APPLE</td>\n",
              "      <td>APPLE iPhone 13 Pro (Alpine Green, 1 TB)</td>\n",
              "      <td>14% off</td>\n",
              "      <td>₹1,44,999</td>\n",
              "    </tr>\n",
              "    <tr>\n",
              "      <th>13</th>\n",
              "      <td>APPLE</td>\n",
              "      <td>APPLE iPhone 13 Pro Max (Alpine Green, 256 GB)</td>\n",
              "      <td>Null</td>\n",
              "      <td>₹1,39,900</td>\n",
              "    </tr>\n",
              "    <tr>\n",
              "      <th>14</th>\n",
              "      <td>APPLE</td>\n",
              "      <td>APPLE iPhone 11 Pro Max (Space Grey, 64 GB)</td>\n",
              "      <td>18% off</td>\n",
              "      <td>₹95,699</td>\n",
              "    </tr>\n",
              "    <tr>\n",
              "      <th>15</th>\n",
              "      <td>APPLE</td>\n",
              "      <td>APPLE iPhone 13 Pro Max (Gold, 256 GB)</td>\n",
              "      <td>Null</td>\n",
              "      <td>₹1,39,900</td>\n",
              "    </tr>\n",
              "    <tr>\n",
              "      <th>16</th>\n",
              "      <td>APPLE</td>\n",
              "      <td>APPLE iPhone 14 Pro (Deep Purple, 1 TB)</td>\n",
              "      <td>3% off</td>\n",
              "      <td>₹1,72,999</td>\n",
              "    </tr>\n",
              "    <tr>\n",
              "      <th>17</th>\n",
              "      <td>APPLE</td>\n",
              "      <td>APPLE iPhone 13 Pro (Sierra Blue, 1 TB)</td>\n",
              "      <td>14% off</td>\n",
              "      <td>₹1,44,999</td>\n",
              "    </tr>\n",
              "    <tr>\n",
              "      <th>18</th>\n",
              "      <td>APPLE</td>\n",
              "      <td>APPLE iPhone 14 Plus ((PRODUCT)RED, 512 GB)</td>\n",
              "      <td>8% off</td>\n",
              "      <td>₹1,09,999</td>\n",
              "    </tr>\n",
              "    <tr>\n",
              "      <th>19</th>\n",
              "      <td>APPLE</td>\n",
              "      <td>APPLE iPhone 13 Pro (Alpine Green, 128 GB)</td>\n",
              "      <td>Null</td>\n",
              "      <td>₹1,19,900</td>\n",
              "    </tr>\n",
              "    <tr>\n",
              "      <th>20</th>\n",
              "      <td>APPLE</td>\n",
              "      <td>APPLE iPhone 14 Pro (Silver, 1 TB)</td>\n",
              "      <td>3% off</td>\n",
              "      <td>₹1,72,999</td>\n",
              "    </tr>\n",
              "    <tr>\n",
              "      <th>21</th>\n",
              "      <td>APPLE</td>\n",
              "      <td>APPLE iPhone 13 Pro (Silver, 128 GB)</td>\n",
              "      <td>Null</td>\n",
              "      <td>₹1,19,900</td>\n",
              "    </tr>\n",
              "    <tr>\n",
              "      <th>22</th>\n",
              "      <td>APPLE</td>\n",
              "      <td>APPLE iPhone 13 Pro (Graphite, 256 GB)</td>\n",
              "      <td>Null</td>\n",
              "      <td>₹1,29,900</td>\n",
              "    </tr>\n",
              "    <tr>\n",
              "      <th>23</th>\n",
              "      <td>APPLE</td>\n",
              "      <td>APPLE iPhone 13 ((PRODUCT)RED, 256 GB)</td>\n",
              "      <td>9% off</td>\n",
              "      <td>₹71,999</td>\n",
              "    </tr>\n",
              "  </tbody>\n",
              "</table>\n",
              "</div>"
            ]
          },
          "metadata": {},
          "execution_count": 31
        }
      ]
    },
    {
      "cell_type": "markdown",
      "source": [
        "data in csv format"
      ],
      "metadata": {
        "id": "CKSnGz7nZN-2"
      }
    },
    {
      "cell_type": "code",
      "source": [
        "df.to_csv(\"I-phone.csv\")"
      ],
      "metadata": {
        "id": "81FDvqQo41sz"
      },
      "execution_count": null,
      "outputs": []
    },
    {
      "cell_type": "markdown",
      "source": [
        "data in json format"
      ],
      "metadata": {
        "id": "s3WD2wy0ZTMq"
      }
    },
    {
      "cell_type": "code",
      "source": [
        "df.to_json(\"I-phone.json\")"
      ],
      "metadata": {
        "id": "DubwFXs668Xf"
      },
      "execution_count": null,
      "outputs": []
    },
    {
      "cell_type": "code",
      "source": [
        "#import mongodb pakage"
      ],
      "metadata": {
        "id": "9J3jjBUkZYcK"
      },
      "execution_count": null,
      "outputs": []
    },
    {
      "cell_type": "code",
      "source": [
        "import pymongo\n",
        "from pymongo import MongoClient"
      ],
      "metadata": {
        "id": "VWjCjQ7G68od"
      },
      "execution_count": null,
      "outputs": []
    },
    {
      "cell_type": "markdown",
      "source": [
        "conecting to local host of mongodb"
      ],
      "metadata": {
        "id": "Gd4MjOOgZlV3"
      }
    },
    {
      "cell_type": "code",
      "source": [
        "client=MongoClient(\"localhost\",27017)\n",
        "db_name = client[\"mydb2\"]\n",
        "collection=db_name['iphonedata']"
      ],
      "metadata": {
        "id": "yDwfq77p68hk"
      },
      "execution_count": null,
      "outputs": []
    },
    {
      "cell_type": "markdown",
      "source": [
        "uploading data on mongodb"
      ],
      "metadata": {
        "id": "OH_-WeFhZrSr"
      }
    },
    {
      "cell_type": "code",
      "source": [
        "dataset = container(containers)\n",
        "    \n",
        "    \n",
        "def dftomonogdb(dataset):\n",
        "#    import pymongo\n",
        "  #  connect = pymongo.MongoClient(host=\"localhost\",port=27017)\n",
        "  #  database = connect[\"flipkartDB\"]\n",
        "    #collection = database[\"iphone\"]\n",
        "\n",
        "    for (row,rs) in dataset.iterrows():\n",
        "        \n",
        "        #print(row)\n",
        "        #r = rs\n",
        "        #brand, model, camera , ram , battery , display ,processor, discount, price\n",
        "        #mydict['brand']=brand\n",
        "        brand = rs[0]\n",
        "        model = rs[1]\n",
        "        discount = rs[2]\n",
        "        price = rs[3]\n",
        "        d = {\"Brand\":brand, \"model\":model , \"discount\":discount,\"price\":price }\n",
        "        collection.insert_one(d)\n",
        "        \n",
        "        \n",
        "        \n",
        "        print(\"Done\")\n",
        "#dftomonogdb(df)"
      ],
      "metadata": {
        "id": "3TemQNQdM-gF"
      },
      "execution_count": null,
      "outputs": []
    },
    {
      "cell_type": "markdown",
      "source": [
        "uploaded data on mongodb"
      ],
      "metadata": {
        "id": "l5EhATOkZvsP"
      }
    },
    {
      "cell_type": "code",
      "source": [
        "dftomonogdb(df)"
      ],
      "metadata": {
        "colab": {
          "base_uri": "https://localhost:8080/"
        },
        "id": "G4KJfRBvM-tH",
        "outputId": "2cb9f602-1c0d-43ef-9b8b-ce945b0c77d4"
      },
      "execution_count": null,
      "outputs": [
        {
          "output_type": "stream",
          "name": "stdout",
          "text": [
            "Done\n",
            "Done\n",
            "Done\n",
            "Done\n",
            "Done\n",
            "Done\n",
            "Done\n",
            "Done\n",
            "Done\n",
            "Done\n",
            "Done\n",
            "Done\n",
            "Done\n",
            "Done\n",
            "Done\n",
            "Done\n",
            "Done\n",
            "Done\n",
            "Done\n",
            "Done\n",
            "Done\n",
            "Done\n",
            "Done\n",
            "Done\n"
          ]
        }
      ]
    },
    {
      "cell_type": "code",
      "source": [
        "https://www.flipkart.com/search?q=smartphone&sid=tyy%2C4io&as=on&as-show=on&otracker=AS_QueryStore_HistoryAutoSuggest_1_5_na_na_na&otracker1=AS_QueryStore_HistoryAutoSuggest_1_5_na_na_na&as-pos=1&as-type=HISTORY&suggestionId=smartphone%7CMobiles&requestId=20d2e6ea-e392-4e36-a8c1-c7a6eba5b724&as-searchtext=smart&page=\"+ str(i)"
      ],
      "metadata": {
        "id": "HPmy53675ICG"
      },
      "execution_count": null,
      "outputs": []
    },
    {
      "cell_type": "code",
      "source": [],
      "metadata": {
        "id": "x_l_TVWGRiqe"
      },
      "execution_count": null,
      "outputs": []
    }
  ]
}